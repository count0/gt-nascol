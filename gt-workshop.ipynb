{
 "cells": [
  {
   "cell_type": "markdown",
   "metadata": {},
   "source": [
    "# An interactive introduction to `graph-tool`\n",
    "## Efficient network analysis with Python"
   ]
  },
  {
   "cell_type": "markdown",
   "metadata": {
    "jp-MarkdownHeadingCollapsed": true
   },
   "source": [
    "Graph-tool is an efficient [Python](https://www.python.org) module for\n",
    "manipulation and statistical analysis of\n",
    "[graphs](https://en.wikipedia.org/wiki/Graph_%28mathematics%29) (a.k.a.\n",
    "[networks](https://en.wikipedia.org/wiki/Network_theory)).\n",
    "\n",
    "Contrary to most\n",
    "other Python modules with similar functionality, the core data structures and\n",
    "algorithms are implemented in [C++](https://en.wikipedia.org/wiki/C%2B%2B),\n",
    "making extensive use of [template\n",
    "metaprogramming](https://en.wikipedia.org/wiki/Template_metaprogramming), based\n",
    "heavily on the [Boost Graph\n",
    "Library](https://www.boost.org/doc/libs/release/libs/graph). This confers it a\n",
    "level of [performance](htts://graph-tool.skewed.de/performance.html) that is comparable (both in memory usage\n",
    "and computation time) to that of a pure C/C++ library.\n",
    "\n",
    "Graph-tool is mature software that has been on the cutting edge of network\n",
    "science for more than 15 years. It is [fully documented](htts://graph-tool.skewed.de/static/doc), and is\n",
    "released as [Free Software](https://www.gnu.org/philosophy/free-sw.html.en)\n",
    "under the [LGPLv3](https://www.gnu.org/licenses/lgpl-3.0.de.html) license.\n",
    "\n",
    "```{important}\n",
    "Graph-tool can be orders of magnitude faster than Python-only alternatives,\n",
    "and therefore it is specially suited for large-scale network analysis.\n",
    "```\n",
    "\n",
    "### Unique features\n",
    "\n",
    "These are some of the functionalities of `graph-tool` which are currently not available in most other comparable packages:\n",
    "\n",
    "1.  Comprehensive framework for [inferential community detection](https://graph-tool.skewed.de/static/doc/demos/inference/inference.html#inference-howto), build upon statistically principled approaches that avoid overfitting and are interpretable. (See [here](https://skewed.de/tiago/posts/modularity-harmful) for why you should avoid off-the-shelf methods available in other software packages.)\n",
    "    \n",
    "2.  Support for [network reconstruction from dynamics](https://graph-tool.skewed.de/static/doc/demos/reconstruction_indirect/reconstruction.html).\n",
    "    \n",
    "3.  Support for [uncertainty quantification](https://graph-tool.skewed.de/static/doc/demos/reconstruction_direct/reconstruction.html) in network data.\n",
    "    \n",
    "4.  Support for [OpenMP](https://en.wikipedia.org/wiki/OpenMP) shared memory [parallelism](https://graph-tool.skewed.de/static/doc/parallel.html) for several algorithms.\n",
    "    \n",
    "5.  High-quality [network visualization](https://graph-tool.skewed.de/static/doc/draw.html#draw), both static and interactive, supporting [animations](https://graph-tool.skewed.de/static/doc/demos/animation/animation.html#animation) and [matplotlib integration](https://graph-tool.skewed.de/static/doc/demos/matplotlib/matplotlib.html#matplotlib-sec).\n",
    "    \n",
    "6.  [Filtered graphs](https://graph-tool.skewed.de/static/doc/quickstart.html#sec-graph-filtering), i.e. graphs where nodes and edges are temporarily masked. These are first class citizens in the library, and are accepted by every function. Due to the use C++ template metaprogramming, this functionality comes at no performance cost when filtering is not being used.\n",
    "    \n",
    "7.  Efficient and fully documented [binary format](https://graph-tool.skewed.de/static/doc/gt_format.html#sec-gt-format) for network files.\n",
    "    \n",
    "8.  Integration with the [Netzschleuder](https://networks.skewed.de) network data repository, enabling [easy loading](https://graph-tool.skewed.de/static/doc/collection.html#graph_tool.collection.ns) of network data.\n",
    "    \n",
    "9.  Support for writing custom [C++ extensions](https://graph-tool.skewed.de/static/doc/demos/cppextensions/cppextensions.html#cppextensions).\n",
    "\n",
    "\n",
    "### Installing graph-tool\n",
    "\n",
    "The simplest way to install graph-tool is via [conda](https://www.anaconda.com):\n",
    "```\n",
    "conda create --name gt -c conda-forge graph-tool\n",
    "conda activate gt\n",
    "```\n",
    "```{tip}\n",
    "If you install ``graph_tool`` via conda it will install binaries that are optimized for your specific CPU micro-architecture, including SIMD vectorization, in addition to having OpenMP enabled for parellization.\n",
    "```\n",
    "\n",
    "Other [installation methods](https://graph-tool.skewed.de/installation.html) are possible. *Unfortunatelly, you cannot install via pip.*\n",
    "\n",
    "On windows, no native installation is available. You need to use [WSL](https://graph-tool.skewed.de/installation.html#windows)."
   ]
  },
  {
   "cell_type": "markdown",
   "metadata": {},
   "source": [
    "## Getting started: creating a graph\n",
    "\n"
   ]
  },
  {
   "cell_type": "markdown",
   "metadata": {},
   "source": [
    "The [`graph_tool`](graph_tool.ipynb#module-graph_tool) module provides a [`Graph`](https://graph-tool.skewed.de/static/doc/autosummary/graph_tool.Graph.html#graph_tool.Graph) class\n",
    "and several algorithms that operate on it. The internals of this class,\n",
    "and of most algorithms, are written in C++ for performance, using the\n",
    "[Boost Graph Library](http://www.boost.org).\n",
    "\n",
    "The module must be of course imported before it can be used. The package is\n",
    "subdivided into several sub-modules. To import everything from all of them, one\n",
    "can do:"
   ]
  },
  {
   "cell_type": "code",
   "execution_count": null,
   "metadata": {
    "hide-output": false
   },
   "outputs": [],
   "source": [
    "from graph_tool.all import *"
   ]
  },
  {
   "cell_type": "markdown",
   "metadata": {},
   "source": [
    "In the following, it will always be assumed that the previous line was run."
   ]
  },
  {
   "cell_type": "markdown",
   "metadata": {},
   "source": [
    "An empty graph can be created by instantiating a [`Graph`](https://graph-tool.skewed.de/static/doc/autosummary/graph_tool.Graph.html#graph_tool.Graph)\n",
    "class:"
   ]
  },
  {
   "cell_type": "code",
   "execution_count": null,
   "metadata": {
    "hide-output": false
   },
   "outputs": [],
   "source": [
    "g = Graph()"
   ]
  },
  {
   "cell_type": "markdown",
   "metadata": {},
   "source": [
    "By default, newly created graphs are always directed. To construct undirected\n",
    "graphs, one must pass a value to the `directed` parameter:"
   ]
  },
  {
   "cell_type": "code",
   "execution_count": null,
   "metadata": {
    "hide-output": false
   },
   "outputs": [],
   "source": [
    "ug = Graph(directed=False)"
   ]
  },
  {
   "cell_type": "markdown",
   "metadata": {},
   "source": [
    "A graph can always be switched *on-the-fly* from directed to undirected\n",
    "(and vice versa), with the [`set_directed()`](https://graph-tool.skewed.de/static/doc/autosummary/graph_tool.Graph.html#graph_tool.Graph.set_directed)\n",
    "method. The “directedness” of the graph can be queried with the\n",
    "[`is_directed()`](https://graph-tool.skewed.de/static/doc/autosummary/graph_tool.Graph.html#graph_tool.Graph.is_directed) method:"
   ]
  },
  {
   "cell_type": "code",
   "execution_count": null,
   "metadata": {
    "hide-output": false
   },
   "outputs": [],
   "source": [
    "ug = Graph()\n",
    "ug.set_directed(False)\n",
    "assert ug.is_directed() == False"
   ]
  },
  {
   "cell_type": "markdown",
   "metadata": {},
   "source": [
    "Once a graph is created, it can be populated with vertices and edges. A\n",
    "vertex can be added with the [`add_vertex()`](https://graph-tool.skewed.de/static/doc/autosummary/graph_tool.Graph.html#graph_tool.Graph.add_vertex)\n",
    "method, which returns an instance of a [`Vertex`](https://graph-tool.skewed.de/static/doc/autosummary/graph_tool.Vertex.html#graph_tool.Vertex)\n",
    "class, also called a *vertex descriptor*. For instance, the following\n",
    "code creates two vertices, and returns vertex descriptors stored in the\n",
    "variables `v1` and `v2`."
   ]
  },
  {
   "cell_type": "code",
   "execution_count": null,
   "metadata": {
    "hide-output": false
   },
   "outputs": [],
   "source": [
    "v1 = g.add_vertex()\n",
    "v2 = g.add_vertex()"
   ]
  },
  {
   "cell_type": "markdown",
   "metadata": {},
   "source": [
    "Edges can be added in an analogous manner, by calling the\n",
    "[`add_edge()`](https://graph-tool.skewed.de/static/doc/autosummary/graph_tool.Graph.html#graph_tool.Graph.add_edge) method, which returns an edge\n",
    "descriptor (an instance of the [`Edge`](https://graph-tool.skewed.de/static/doc/autosummary/graph_tool.Edge.html#graph_tool.Edge) class):"
   ]
  },
  {
   "cell_type": "code",
   "execution_count": null,
   "metadata": {
    "hide-output": false
   },
   "outputs": [],
   "source": [
    "e = g.add_edge(v1, v2)"
   ]
  },
  {
   "cell_type": "markdown",
   "metadata": {},
   "source": [
    "The above code creates a directed edge from `v1` to `v2`.\n",
    "\n",
    "A graph can also be created by providing another graph, in which case\n",
    "the entire graph (and its internal property maps, see\n",
    "[Property maps](.ipynb_checkpoints/quickstart-checkpoint#sec-property-maps)) is copied:"
   ]
  },
  {
   "cell_type": "code",
   "execution_count": null,
   "metadata": {
    "hide-output": false
   },
   "outputs": [],
   "source": [
    "g2 = Graph(g)                 # g2 is a copy of g"
   ]
  },
  {
   "cell_type": "markdown",
   "metadata": {},
   "source": [
    "Above, `g2` is a “deep” copy of `g`, i.e. any modification of\n",
    "`g2` will not affect `g`.\n",
    "\n",
    ">**Note**\n",
    ">\n",
    ">Graph visualization in `graph-tool` can be interactive! When the `output`\n",
    "parameter of [`graph_draw()`](https://graph-tool.skewed.de/static/doc/autosummary/graph_tool.draw.graph_draw.html#graph_tool.draw.graph_draw) is omitted, instead of saving\n",
    "to a file, the function opens an interactive window. From there, the user can\n",
    "zoom in or out, rotate the graph, select and move individual nodes or node\n",
    "selections. See [`GraphWidget()`](https://graph-tool.skewed.de/static/doc/autosummary/graph_tool.draw.GraphWidget.html#graph_tool.draw.GraphWidget) for documentation on the\n",
    "interactive interface.\n",
    "\n",
    "If you are using a [Jupyter](https://jupyter.org/) notebook, the graphs\n",
    "are drawn inline if `output` is omitted. If an interactive window is\n",
    "desired instead, the option `inline = False` should be passed.\n",
    "\n",
    "We can visualize the graph we created so far with the\n",
    "[`graph_draw()`](https://graph-tool.skewed.de/static/doc/autosummary/graph_tool.draw.graph_draw.html#graph_tool.draw.graph_draw) function."
   ]
  },
  {
   "cell_type": "code",
   "execution_count": null,
   "metadata": {
    "hide-output": false
   },
   "outputs": [],
   "source": [
    "graph_draw(g, vertex_text=g.vertex_index, output_size=(200,200));"
   ]
  },
  {
   "cell_type": "markdown",
   "metadata": {},
   "source": [
    "A simple directed graph with two vertices and one edge, created by\n",
    "the commands above.  \n",
    "We can add attributes to the nodes and edges of our graph via [property\n",
    "maps](.ipynb_checkpoints/quickstart-checkpoint#sec-property-maps). For example, suppose we want to add an edge weight and\n",
    "node color to our graph we have first to create two [`PropertyMap`](https://graph-tool.skewed.de/static/doc/autosummary/graph_tool.PropertyMap.html#graph_tool.PropertyMap)\n",
    "objects as such:"
   ]
  },
  {
   "cell_type": "code",
   "execution_count": null,
   "metadata": {
    "hide-output": false
   },
   "outputs": [],
   "source": [
    "eweight = g.new_ep(\"double\")    # creates an EdgePropertyMap of type double\n",
    "vcolor = g.new_vp(\"string\")     # creates a VertexPropertyMap of type string"
   ]
  },
  {
   "cell_type": "markdown",
   "metadata": {},
   "source": [
    "And now we set their values for each vertex and edge:"
   ]
  },
  {
   "cell_type": "code",
   "execution_count": null,
   "metadata": {
    "hide-output": false
   },
   "outputs": [],
   "source": [
    "eweight[e] = 10\n",
    "vcolor[v1] = \"#1c71d8\"\n",
    "vcolor[v2] = \"#2ec27e\""
   ]
  },
  {
   "cell_type": "markdown",
   "metadata": {},
   "source": [
    "Property maps can then be used in many `graph-tool` functions to set node\n",
    "and edge properties, for example:"
   ]
  },
  {
   "cell_type": "code",
   "execution_count": null,
   "metadata": {
    "hide-output": false
   },
   "outputs": [],
   "source": [
    "graph_draw(g, vertex_text=g.vertex_index, vertex_fill_color=vcolor,\n",
    "           edge_pen_width=eweight, output_size=(200,200));"
   ]
  },
  {
   "cell_type": "markdown",
   "metadata": {},
   "source": [
    "The same graph as before, but with edge width and node color specified by\n",
    "property maps.  \n",
    "Property maps are discussed in more detail in the section\n",
    "[Property maps](#sec-property-maps) below."
   ]
  },
  {
   "cell_type": "markdown",
   "metadata": {},
   "source": [
    "### Adding many edges and vertices at once"
   ]
  },
  {
   "cell_type": "markdown",
   "metadata": {},
   "source": [
    "See [Property maps](.ipynb_checkpoints/quickstart-checkpoint#sec-property-maps) below for more details.\n",
    "\n",
    "It is also possible to add many edges and vertices at once when the graph is\n",
    "created. For example, it is possible to construct graphs directly from a list of edges, e.g."
   ]
  },
  {
   "cell_type": "code",
   "execution_count": null,
   "metadata": {
    "hide-output": false
   },
   "outputs": [],
   "source": [
    "g = Graph([('foo', 'bar'), ('gnu', 'gnat')], hashed=True)"
   ]
  },
  {
   "cell_type": "markdown",
   "metadata": {},
   "source": [
    "which is just a convenience shortcut to creating an empty graph and calling\n",
    "[`add_edge_list()`](https://graph-tool.skewed.de/static/doc/autosummary/graph_tool.Graph.html#graph_tool.Graph.add_edge_list) afterward, as we will discuss below."
   ]
  },
  {
   "cell_type": "markdown",
   "metadata": {},
   "source": [
    ">**Note**\n",
    ">\n",
    ">The vertex values passed to the constructor need to be integers per default,\n",
    "but arbitrary objects can be passed as well if the option `hashed = True`\n",
    "is passed. In this case, the mapping of vertex descriptors to\n",
    "vertex ids is obtained via an internal\n",
    "[`VertexPropertyMap`](https://graph-tool.skewed.de/static/doc/autosummary/graph_tool.VertexPropertyMap.html#graph_tool.VertexPropertyMap) called `\"ids\"`. E.g. in the\n",
    "example above we have"
   ]
  },
  {
   "cell_type": "code",
   "execution_count": null,
   "metadata": {
    "hide-output": false
   },
   "outputs": [],
   "source": [
    "print(g.vp.ids[0])"
   ]
  },
  {
   "cell_type": "markdown",
   "metadata": {},
   "source": [
    "Edge properties can also be initialized together with the edges by using\n",
    "tuples `(source, target, property_1, property_2, ...)`, e.g."
   ]
  },
  {
   "cell_type": "markdown",
   "metadata": {},
   "source": []
  },
  {
   "cell_type": "code",
   "execution_count": null,
   "metadata": {
    "hide-output": false
   },
   "outputs": [],
   "source": [
    "g = Graph([('foo', 'bar', .5, 1), ('gnu', 'gnat', .78, 2)], hashed=True,\n",
    "          eprops=[('weight', 'double'), ('time', 'int')])"
   ]
  },
  {
   "cell_type": "markdown",
   "metadata": {},
   "source": [
    "The `eprops` parameter lists the name and value types of the properties, which\n",
    "are used to create internal property maps with the value encountered (see\n",
    "[Property maps](.ipynb_checkpoints/quickstart-checkpoint#sec-property-maps) below for more details).\n",
    "\n",
    "It is possible also to pass an adjacency list to construct a graph,\n",
    "which is a dictionary of out-neighbors for every vertex key:"
   ]
  },
  {
   "cell_type": "code",
   "execution_count": null,
   "metadata": {
    "hide-output": false
   },
   "outputs": [],
   "source": [
    "g = Graph({0: [2, 3], 1: [4], 3: [4, 5], 6: []})"
   ]
  },
  {
   "cell_type": "markdown",
   "metadata": {},
   "source": [
    "We can also easily construct graphs from adjacency matrices. They need only to\n",
    "be converted to a sparse scipy matrix (i.e. a subclass of\n",
    "[`scipy.sparse.sparray`](https://docs.scipy.org/doc/scipy/reference/generated/scipy.sparse.sparray.html#scipy.sparse.sparray) or [`scipy.sparse.spmatrix`](https://docs.scipy.org/doc/scipy/reference/generated/scipy.sparse.spmatrix.html.html#scipy.sparse.spmatrix)) and passed to\n",
    "the constructor, e.g.:"
   ]
  },
  {
   "cell_type": "code",
   "execution_count": null,
   "metadata": {
    "hide-output": false
   },
   "outputs": [],
   "source": [
    "import numpy as np\n",
    "import scipy.sparse\n",
    "\n",
    "m = np.array([[0, 1, 0],\n",
    "              [0, 0, 1],\n",
    "              [0, 1, 0]])\n",
    "\n",
    "g = Graph(scipy.sparse.lil_matrix(m))"
   ]
  },
  {
   "cell_type": "markdown",
   "metadata": {},
   "source": [
    "The nonzero entries of the matrix are stored as an edge property map named\n",
    "`\"weight\"` (see [Property maps](.ipynb_checkpoints/quickstart-checkpoint#sec-property-maps) below for more details), e.g."
   ]
  },
  {
   "cell_type": "code",
   "execution_count": null,
   "metadata": {
    "hide-output": false
   },
   "outputs": [],
   "source": [
    "m = np.array([[0, 1.2,  0],\n",
    "              [0,   0, 10],\n",
    "              [0,   7,  0]])\n",
    "g = Graph(scipy.sparse.lil_matrix(m))\n",
    "print(g.ep.weight.a)"
   ]
  },
  {
   "cell_type": "markdown",
   "metadata": {},
   "source": [
    "For undirected graphs (i.e. the option `directed = False` is given) only the\n",
    "upper triangular portion of the passed matrix will be considered, and the\n",
    "remaining entries will be ignored.\n",
    "\n",
    "We can also add many edges at once after the graph has been created using the\n",
    "[`add_edge_list()`](https://graph-tool.skewed.de/static/doc/autosummary/graph_tool.Graph.html#graph_tool.Graph.add_edge_list) method. It accepts any iterable of\n",
    "`(source, target)` pairs, and automatically adds any new vertex seen:"
   ]
  },
  {
   "cell_type": "code",
   "execution_count": null,
   "metadata": {
    "hide-output": false
   },
   "outputs": [],
   "source": [
    "g.add_edge_list([(0, 1), (2, 3)])"
   ]
  },
  {
   "cell_type": "markdown",
   "metadata": {},
   "source": [
    ">**Note**\n",
    ">\n",
    ">As above, if `hashed = True` is passed, the function\n",
    "[`add_edge_list()`](https://graph-tool.skewed.de/static/doc/autosummary/graph_tool.Graph.html#graph_tool.Graph.add_edge_list) returns a\n",
    "[`VertexPropertyMap`](https://graph-tool.skewed.de/static/doc/autosummary/graph_tool.VertexPropertyMap.html#graph_tool.VertexPropertyMap) object that maps vertex descriptors to\n",
    "their id values in the list. See [Property maps](.ipynb_checkpoints/quickstart-checkpoint#sec-property-maps) below.\n",
    "\n",
    "The vertex values passed to [`add_edge_list()`](https://graph-tool.skewed.de/static/doc/autosummary/graph_tool.Graph.html#graph_tool.Graph.add_edge_list) need to be\n",
    "integers per default, but arbitrary objects can be passed as well if the\n",
    "option `hashed = True` is passed, e.g. for string values:"
   ]
  },
  {
   "cell_type": "code",
   "execution_count": null,
   "metadata": {
    "hide-output": false
   },
   "outputs": [],
   "source": [
    "g.add_edge_list([('foo', 'bar'), ('gnu', 'gnat')], hashed=True,\n",
    "                hash_type=\"string\")"
   ]
  },
  {
   "cell_type": "markdown",
   "metadata": {},
   "source": [
    "or for arbitrary (hashable) Python objects:"
   ]
  },
  {
   "cell_type": "code",
   "execution_count": null,
   "metadata": {
    "hide-output": false
   },
   "outputs": [],
   "source": [
    "g.add_edge_list([((2, 3), 'foo'), (3, 42.3)], hashed=True,\n",
    "                hash_type=\"object\")"
   ]
  },
  {
   "cell_type": "markdown",
   "metadata": {},
   "source": [
    "## Manipulating graphs\n",
    "\n",
    "With vertex and edge descriptors at hand, one can examine and manipulate\n",
    "the graph in an arbitrary manner. For instance, in order to obtain the\n",
    "out-degree of a vertex, we can simply call the\n",
    "[`out_degree()`](https://graph-tool.skewed.de/static/doc/autosummary/graph_tool.Vertex.html#graph_tool.Vertex.out_degree) method:"
   ]
  },
  {
   "cell_type": "code",
   "execution_count": null,
   "metadata": {
    "hide-output": false
   },
   "outputs": [],
   "source": [
    "g = Graph()\n",
    "v1 = g.add_vertex()\n",
    "v2 = g.add_vertex()\n",
    "e = g.add_edge(v1, v2)\n",
    "print(v1.out_degree())"
   ]
  },
  {
   "cell_type": "markdown",
   "metadata": {},
   "source": [
    ">**Note**\n",
    ">\n",
    ">For undirected graphs, the “out-degree” is synonym for degree, and\n",
    "in this case the in-degree of a vertex is always zero.\n",
    "\n",
    "Analogously, we could have used the [`in_degree()`](https://graph-tool.skewed.de/static/doc/autosummary/graph_tool.Vertex.html#graph_tool.Vertex.in_degree)\n",
    "method to query the in-degree.\n",
    "\n",
    "Edge descriptors have two useful methods, [`source()`](https://graph-tool.skewed.de/static/doc/autosummary/graph_tool.Edge.html#graph_tool.Edge.source)\n",
    "and [`target()`](https://graph-tool.skewed.de/static/doc/autosummary/graph_tool.Edge.html#graph_tool.Edge.target), which return the source and target\n",
    "vertex of an edge, respectively."
   ]
  },
  {
   "cell_type": "code",
   "execution_count": null,
   "metadata": {
    "hide-output": false
   },
   "outputs": [],
   "source": [
    "print(e.source(), e.target())"
   ]
  },
  {
   "cell_type": "markdown",
   "metadata": {},
   "source": [
    "We can also directly convert an edge to a tuple of vertices, to the same effect:"
   ]
  },
  {
   "cell_type": "code",
   "execution_count": null,
   "metadata": {
    "hide-output": false
   },
   "outputs": [],
   "source": [
    "u, v = e\n",
    "print(u, v)"
   ]
  },
  {
   "cell_type": "markdown",
   "metadata": {},
   "source": [
    "The [`add_vertex()`](https://graph-tool.skewed.de/static/doc/autosummary/graph_tool.Graph.html#graph_tool.Graph.add_vertex) method also accepts an optional\n",
    "parameter which specifies the number of additional vertices to create. If this\n",
    "value is greater than 1, it returns an iterator on the added vertex descriptors:"
   ]
  },
  {
   "cell_type": "code",
   "execution_count": null,
   "metadata": {
    "hide-output": false
   },
   "outputs": [],
   "source": [
    "vlist = g.add_vertex(10)\n",
    "print(len(list(vlist)))"
   ]
  },
  {
   "cell_type": "markdown",
   "metadata": {},
   "source": [
    "Each vertex in a graph has a unique index, which is ***always*** between\n",
    "$ 0 $ and $ N-1 $, where $ N $ is the number of\n",
    "vertices. This index can be obtained by using the\n",
    "[`vertex_index`](https://graph-tool.skewed.de/static/doc/autosummary/graph_tool.Graph.html#graph_tool.Graph.vertex_index) attribute of the graph (which is\n",
    "a *property map*, see [Property maps](.ipynb_checkpoints/quickstart-checkpoint#sec-property-maps)), or by converting the\n",
    "vertex descriptor to an `int`."
   ]
  },
  {
   "cell_type": "code",
   "execution_count": null,
   "metadata": {
    "hide-output": false
   },
   "outputs": [],
   "source": [
    "v = g.add_vertex()\n",
    "print(g.vertex_index[v])\n",
    "print(int(v))"
   ]
  },
  {
   "cell_type": "markdown",
   "metadata": {},
   "source": [
    "Edges and vertices can also be removed at any time with the\n",
    "[`remove_vertex()`](https://graph-tool.skewed.de/static/doc/autosummary/graph_tool.Graph#graph_tool.Graph.remove_vertex) and [`remove_edge()`](https://graph-tool.skewed.de/static/doc/autosummary/graph_tool.Graph.html#graph_tool.Graph.remove_edge) methods,"
   ]
  },
  {
   "cell_type": "code",
   "execution_count": null,
   "metadata": {
    "hide-output": false
   },
   "outputs": [],
   "source": [
    "g.remove_edge(e)                               # e no longer exists\n",
    "g.remove_vertex(v2)                # the second vertex is also gone"
   ]
  },
  {
   "cell_type": "markdown",
   "metadata": {},
   "source": [
    "Since vertices are uniquely identifiable by their indices, there is no\n",
    "need to keep the vertex descriptor lying around to access them at a\n",
    "later point. If we know its index, we can obtain the descriptor of a\n",
    "vertex with a given index using the [`vertex()`](https://graph-tool.skewed.de/static/doc/autosummary/graph_tool.Graph.html#graph_tool.Graph.vertex)\n",
    "method,"
   ]
  },
  {
   "cell_type": "code",
   "execution_count": null,
   "metadata": {
    "hide-output": false
   },
   "outputs": [],
   "source": [
    "v = g.vertex(8)"
   ]
  },
  {
   "cell_type": "markdown",
   "metadata": {},
   "source": [
    "which takes an index, and returns a vertex descriptor. Edges cannot be\n",
    "directly obtained by its index, but if the source and target vertices of\n",
    "a given edge are known, it can be retrieved with the\n",
    "[`edge()`](https://graph-tool.skewed.de/static/doc/autosummary/graph_tool.Graph.html#graph_tool.Graph.edge) method"
   ]
  },
  {
   "cell_type": "code",
   "execution_count": null,
   "metadata": {
    "hide-output": false
   },
   "outputs": [],
   "source": [
    "g.add_edge(g.vertex(2), g.vertex(3))\n",
    "e = g.edge(2, 3)"
   ]
  },
  {
   "cell_type": "markdown",
   "metadata": {},
   "source": [
    "Another way to obtain edge or vertex descriptors is to *iterate* through\n",
    "them, as described in section [Iterating over vertices and edges](.ipynb_checkpoints/quickstart-checkpoint#sec-iteration). This is in fact the\n",
    "most useful way of obtaining vertex and edge descriptors.\n",
    "\n",
    "Like vertices, edges also have unique indices, which are given by the\n",
    "[`edge_index`](https://graph-tool.skewed.de/static/doc/autosummary/graph_tool.Graph.html#graph_tool.Graph.edge_index) property:"
   ]
  },
  {
   "cell_type": "code",
   "execution_count": null,
   "metadata": {
    "hide-output": false
   },
   "outputs": [],
   "source": [
    "e = g.add_edge(g.vertex(0), g.vertex(1))\n",
    "print(g.edge_index[e])"
   ]
  },
  {
   "cell_type": "markdown",
   "metadata": {},
   "source": [
    "Differently from vertices, edge indices do not necessarily conform to\n",
    "any specific range. If no edges are ever removed, the indices will be in\n",
    "the range $ [0, E-1] $, where $ E $ is the number of edges, and\n",
    "edges added earlier have lower indices. However if an edge is removed,\n",
    "its index will be “vacant”, and the remaining indices will be left\n",
    "unmodified, and thus will not all lie in the range $ [0, E-1] $.  If\n",
    "a new edge is added, it will reuse old indices, in an increasing order.\n"
   ]
  },
  {
   "cell_type": "markdown",
   "metadata": {},
   "source": [
    "### Iterating over vertices and edges\n",
    "\n",
    "Algorithms must often iterate through vertices, edges, out-edges of a\n",
    "vertex, etc. The [`Graph`](https://graph-tool.skewed.de/static/doc/autosummary/graph_tool.Graph.html#graph_tool.Graph) and\n",
    "[`Vertex`](https://graph-tool.skewed.de/static/doc/autosummary/graph_tool.Vertex.html#graph_tool.Vertex) classes provide different types of iterators\n",
    "for doing so. The iterators always point to edge or vertex descriptors."
   ]
  },
  {
   "cell_type": "markdown",
   "metadata": {},
   "source": [
    "#### Iterating over all vertices or edges\n",
    "\n",
    "In order to iterate through all the vertices or edges of a graph, the\n",
    "[`vertices()`](https://graph-tool.skewed.de/static/doc/autosummary/graph_tool.Graph#graph_tool.Graph.vertices) and [`edges()`](https://graph-tool.skewed.de/static/doc/autosummary/graph_tool.Graph.html#graph_tool.Graph.edges)\n",
    "methods should be used:"
   ]
  },
  {
   "cell_type": "code",
   "execution_count": null,
   "metadata": {
    "hide-output": false
   },
   "outputs": [],
   "source": [
    "for v in g.vertices():\n",
    "    print(v)\n",
    "for e in g.edges():\n",
    "    print(e)"
   ]
  },
  {
   "cell_type": "markdown",
   "metadata": {},
   "source": [
    "The code above will print the vertices and edges of the graph in the order they\n",
    "are found."
   ]
  },
  {
   "cell_type": "markdown",
   "metadata": {},
   "source": [
    "#### Iterating over the neighborhood of a vertex\n",
    "\n",
    "You should never remove vertex or edge descriptors when iterating\n",
    "over them, since this invalidates the iterators. If you plan to\n",
    "remove vertices or edges during iteration, you must first store them\n",
    "somewhere (such as in a list) and remove them only after no iterator\n",
    "is being used. Removal during iteration will cause bad things to\n",
    "happen.\n",
    "\n",
    "The out- and in-edges of a vertex, as well as the out- and in-neighbors can be\n",
    "iterated through with the [`out_edges()`](https://graph-tool.skewed.de/static/doc/autosummary/graph_tool.Vertex.html#graph_tool.Vertex.out_edges),\n",
    "[`in_edges()`](https://graph-tool.skewed.de/static/doc/autosummary/graph_tool.Vertex#graph_tool.Vertex.in_edges), [`out_neighbors()`](https://graph-tool.skewed.de/static/doc/autosummary/graph_tool.Vertex.html#graph_tool.Vertex.out_neighbors)\n",
    "and [`in_neighbors()`](https://graph-tool.skewed.de/static/doc/autosummary/graph_tool.Vertex.html#graph_tool.Vertex.in_neighbors) methods, respectively."
   ]
  },
  {
   "cell_type": "code",
   "execution_count": null,
   "metadata": {
    "hide-output": false
   },
   "outputs": [],
   "source": [
    "for v in g.vertices():\n",
    "   for e in v.out_edges():\n",
    "       print(e)\n",
    "   for w in v.out_neighbors():\n",
    "       print(w)\n",
    "\n",
    "   # the edge and neighbors order always match\n",
    "   for e, w in zip(v.out_edges(), v.out_neighbors()):\n",
    "       assert e.target() == w"
   ]
  },
  {
   "cell_type": "markdown",
   "metadata": {},
   "source": [
    "The code above will print the out-edges and out-neighbors of all\n",
    "vertices in the graph."
   ]
  },
  {
   "cell_type": "markdown",
   "metadata": {},
   "source": [
    "## Example analysis: an online social network\n",
    "\n",
    "Let us consider an online social network of [facebook users](https://networks.skewed.de/net/ego_social), available from the\n",
    "[Netzschleuder network repository](http://networks.skewed.de). We can load it\n",
    "in `graph-tool` via the [`graph_tool.collection.ns`](https://graph-tool.skewed.de/static/doc/collection.html) interface:"
   ]
  },
  {
   "cell_type": "code",
   "execution_count": null,
   "metadata": {
    "hide-output": false
   },
   "outputs": [],
   "source": [
    "g = collection.ns[\"ego_social/facebook_combined\"]"
   ]
  },
  {
   "cell_type": "markdown",
   "metadata": {},
   "source": [
    "We can quickly inspect the structure of the network by visualizing it:"
   ]
  },
  {
   "cell_type": "code",
   "execution_count": null,
   "metadata": {
    "hide-output": false
   },
   "outputs": [],
   "source": [
    "graph_draw(g, g.vp._pos);"
   ]
  },
  {
   "cell_type": "code",
   "execution_count": null,
   "metadata": {
    "hide-output": false
   },
   "outputs": [],
   "source": [
    "state = minimize_blockmodel_dl(g)"
   ]
  },
  {
   "cell_type": "markdown",
   "metadata": {},
   "source": [
    "This returns a [`BlockState`](https://graph-tool.skewed.de/static/doc/autosummary/graph_tool.inference.BlockState.html#graph_tool.inference.BlockState) object. We can\n",
    "visualize the results with:"
   ]
  },
  {
   "cell_type": "code",
   "execution_count": null,
   "metadata": {
    "hide-output": false
   },
   "outputs": [],
   "source": [
    "state.draw(pos=g.vp._pos);"
   ]
  },
  {
   "cell_type": "markdown",
   "metadata": {},
   "source": [
    ">**Note**\n",
    ">\n",
    ">The algorithm to compute betweenness centrality has a quadratic complexity on\n",
    "the number of nodes of the network, so it can become slow as it becomes large.\n",
    "However in `graph-tool` it is implemented in parallel, affording us more\n",
    "performance. For the network being considered, it finishes in under a second\n",
    "with a modern laptop.\n",
    "\n",
    "We might want to identify the nodes and edges that act as “bridges” between\n",
    "these communities. We can do so by computing the [betweenness centrality](https://en.wikipedia.org/wiki/Betweenness_centrality), obtained via\n",
    "[`betweenness()`](https://graph-tool.skewed.de/static/doc/autosummary/graph_tool.centrality.betweenness.html#graph_tool.centrality.betweenness):"
   ]
  },
  {
   "cell_type": "code",
   "execution_count": null,
   "metadata": {
    "hide-output": false
   },
   "outputs": [],
   "source": [
    "vb, eb = betweenness(g)"
   ]
  },
  {
   "cell_type": "markdown",
   "metadata": {},
   "source": [
    "This returns an vertex and edge property map with the respective betweenness\n",
    "values. We can visualize them with:\n",
    "\n",
    "The function [`prop_to_size()`](https://graph-tool.skewed.de/static/doc/autosummary/graph_tool.draw.prop_to_size.html#graph_tool.draw.prop_to_size) provides a convenient way\n",
    "to transformation the property map values to ranges more appropriate for\n",
    "sizes in [`graph_draw()`](https://graph-tool.skewed.de/static/doc/autosummary/graph_tool.draw.graph_draw.html#graph_tool.draw.graph_draw). See also\n",
    "[Transformations](.ipynb_checkpoints/quickstart-checkpoint#sec-property-trans)."
   ]
  },
  {
   "cell_type": "code",
   "execution_count": null,
   "metadata": {
    "hide-output": false
   },
   "outputs": [],
   "source": [
    "graph_draw(g, g.vp._pos, vertex_fill_color=prop_to_size(vb, 0, 1, power=.1),\n",
    "           vertex_size=prop_to_size(vb, 3, 12, power=.2), vorder=vb)"
   ]
  },
  {
   "cell_type": "markdown",
   "metadata": {},
   "source": [
    "The node betweeness values correspond to the color and size of the nodes.  \n",
    "\n",
    "<a id='sec-property-maps'></a>"
   ]
  },
  {
   "cell_type": "markdown",
   "metadata": {},
   "source": [
    "## Property maps\n",
    "\n",
    "Property maps are a way of associating additional information to the\n",
    "vertices, edges, or to the graph itself. There are thus three types of\n",
    "property maps: vertex, edge, and graph. They are handled by the\n",
    "classes [`VertexPropertyMap`](https://graph-tool.skewed.de/static/doc/autosummary/graph_tool.VertexPropertyMap.html#graph_tool.VertexPropertyMap),\n",
    "[`EdgePropertyMap`](https://graph-tool.skewed.de/static/doc/autosummary/graph_tool.EdgePropertyMap.html#graph_tool.EdgePropertyMap), and\n",
    "[`GraphPropertyMap`](https://graph-tool.skewed.de/static/doc/autosummary/graph_tool.GraphPropertyMap.html#graph_tool.GraphPropertyMap). Each created property map has an\n",
    "associated *value type*, which must be chosen from the predefined set:\n",
    "\n",
    "<div style=\"width:30\">\n",
    "\n",
    "|Type name|Alias|\n",
    "|:------|:------|\n",
    "|bool|uint8_t|\n",
    "|int16_t|short|\n",
    "|int32_t|int|\n",
    "|int64_t|long, long long|\n",
    "|double|float|\n",
    "|long double||\n",
    "|string||\n",
    "|vector<bool>|vector<uint8_t>|\n",
    "|vector<int16_t>|vector<short>|\n",
    "|vector<int32_t>|vector<int>|\n",
    "|vector<int64_t>|vector<long>, vector<long long>|\n",
    "|vector<double>|vector<float>|\n",
    "|vector<long double>||\n",
    "|vector<string>||\n",
    "|python::object|object|\n",
    "\n",
    "</div>\n",
    "\n",
    "New property maps can be created for a given graph by calling one of the\n",
    "methods [`new_vertex_property()`](https://graph-tool.skewed.de/static/doc/autosummary/graph_tool.Graph.html#graph_tool.Graph.new_vertex_property) (alias\n",
    "[`new_vp()`](https://graph-tool.skewed.de/static/doc/autosummary/graph_tool.Graph.html#graph_tool.Graph.new_vp)),\n",
    "[`new_edge_property()`](https://graph-tool.skewed.de/static/doc/autosummary/graph_tool.Graph.html#graph_tool.Graph.new_edge_property) (alias\n",
    "[`new_ep()`](https://graph-tool.skewed.de/static/doc/autosummary/graph_tool.Graph.html#graph_tool.Graph.new_ep)), or\n",
    "[`new_graph_property()`](https://graph-tool.skewed.de/static/doc/autosummary/graph_tool.Graph.html#graph_tool.Graph.new_graph_property) (alias\n",
    "[`new_gp()`](https://graph-tool.skewed.de/static/doc/autosummary/graph_tool.Graph.html#graph_tool.Graph.new_gp)), for each map type. The values are\n",
    "then accessed by vertex or edge descriptors, or the graph itself, as\n",
    "such:"
   ]
  },
  {
   "cell_type": "code",
   "execution_count": null,
   "metadata": {
    "hide-output": false
   },
   "outputs": [],
   "source": [
    "from numpy.random import randint\n",
    "\n",
    "g = Graph()\n",
    "g.add_vertex(100)\n",
    "\n",
    "# insert some random links\n",
    "for s,t in zip(randint(0, 100, 100), randint(0, 100, 100)):\n",
    "    g.add_edge(g.vertex(s), g.vertex(t))\n",
    "\n",
    "vprop = g.new_vertex_property(\"double\")              # Double-precision floating point\n",
    "v = g.vertex(10)\n",
    "vprop[v] = 3.1416\n",
    "\n",
    "vprop2 = g.new_vertex_property(\"vector<int>\")        # Vector of ints\n",
    "v = g.vertex(40)\n",
    "vprop2[v] = [1, 3, 42, 54]\n",
    "\n",
    "eprop = g.new_edge_property(\"object\")                # Arbitrary Python object.\n",
    "e = g.edges().next()\n",
    "eprop[e] = {\"foo\": \"bar\", \"gnu\": 42}                 # In this case, a dict.\n",
    "\n",
    "gprop = g.new_graph_property(\"bool\")                 # Boolean\n",
    "gprop[g] = True"
   ]
  },
  {
   "cell_type": "markdown",
   "metadata": {},
   "source": [
    "It is possible also to access vertex property maps directly by vertex indices:"
   ]
  },
  {
   "cell_type": "code",
   "execution_count": null,
   "metadata": {},
   "outputs": [],
   "source": [
    "print(vprop[10])"
   ]
  },
  {
   "cell_type": "markdown",
   "metadata": {},
   "source": [
    "The following lines are equivalent:"
   ]
  },
  {
   "cell_type": "code",
   "execution_count": null,
   "metadata": {
    "hide-output": false
   },
   "outputs": [],
   "source": [
    "g.add_edge(30, 40)\n",
    "eprop[(30, 40)]\n",
    "eprop[g.edge(30, 40)]"
   ]
  },
  {
   "cell_type": "markdown",
   "metadata": {},
   "source": [
    "Which means that indexing via (source, target) pairs is slower than via edge\n",
    "descriptors, since the function [`edge()`](https://graph-tool.skewed.de/static/doc/autosummary/graph_tool.Graph.html#graph_tool.Graph.edge) needs to be\n",
    "called first.\n",
    "\n",
    "And likewise we can access edge descriptors via (source, target) pairs:"
   ]
  },
  {
   "cell_type": "code",
   "execution_count": null,
   "metadata": {},
   "outputs": [],
   "source": [
    "eprop[(30, 40)] = \"gnat\""
   ]
  },
  {
   "cell_type": "markdown",
   "metadata": {},
   "source": [
    "We can also iterate through the property map values directly, i.e."
   ]
  },
  {
   "cell_type": "code",
   "execution_count": null,
   "metadata": {},
   "outputs": [],
   "source": [
    "print(list(vprop)[:10])"
   ]
  },
  {
   "cell_type": "markdown",
   "metadata": {},
   "source": [
    "Property maps with scalar value types can also be accessed as a\n",
    "[`numpy.ndarray`](https://numpy.org/doc/stable/reference/generated/numpy.ndarray.html.html#numpy.ndarray), with the\n",
    "[`get_array()`](https://graph-tool.skewed.de/static/doc/autosummary/graph_tool.PropertyMap.html#graph_tool.PropertyMap.get_array) method, or the\n",
    "[`a`](https://graph-tool.skewed.de/static/doc/autosummary/graph_tool.PropertyMap.html#graph_tool.PropertyMap.a) attribute, e.g.,"
   ]
  },
  {
   "cell_type": "code",
   "execution_count": null,
   "metadata": {
    "hide-output": false
   },
   "outputs": [],
   "source": [
    "from numpy.random import random\n",
    "\n",
    "# this assigns random values to the vertex properties\n",
    "vprop.get_array()[:] = random(g.num_vertices())\n",
    "\n",
    "# or more conveniently (this is equivalent to the above)\n",
    "vprop.a = random(g.num_vertices())"
   ]
  },
  {
   "cell_type": "markdown",
   "metadata": {},
   "source": [
    "\n",
    "<a id='sec-property-trans'></a>"
   ]
  },
  {
   "cell_type": "markdown",
   "metadata": {},
   "source": [
    "### Transformations\n",
    "\n",
    "We usually want to apply transformations to the values of property maps. This\n",
    "can be achieved via iteration (see [Iterating over vertices and edges](.ipynb_checkpoints/quickstart-checkpoint#sec-iteration)), but since this is a\n",
    "such a common operation, there’s a more convenient way to do this via the\n",
    "[`transform()`](https://graph-tool.skewed.de/static/doc/autosummary/graph_tool.PropertyMap.html#graph_tool.PropertyMap.transform) method (or is shorter alias\n",
    "[`t()`](https://graph-tool.skewed.de/static/doc/autosummary/graph_tool.PropertyMap.html#graph_tool.PropertyMap.t)), which takes a function and returns a\n",
    "copy of the property map with the function applied to its values:"
   ]
  },
  {
   "cell_type": "code",
   "execution_count": null,
   "metadata": {
    "hide-output": false
   },
   "outputs": [],
   "source": [
    "# Vertex property map with random values in the range [-.5, .5]\n",
    "rand = g.new_vp(\"double\", vals=random(g.num_vertices()) - .5)"
   ]
  },
  {
   "cell_type": "code",
   "execution_count": null,
   "metadata": {
    "hide-output": false
   },
   "outputs": [],
   "source": [
    "# The following returns a copy of `rand` but containing only the absolute values\n",
    "m = rand.t(abs)"
   ]
  },
  {
   "cell_type": "markdown",
   "metadata": {
    "hide-output": false
   },
   "source": [
    "Transformations are particularly useful to pass temporary properties to\n",
    "functions, e.g."
   ]
  },
  {
   "cell_type": "code",
   "execution_count": null,
   "metadata": {
    "hide-output": false
   },
   "outputs": [],
   "source": [
    "erand = g.new_ep(\"double\", vals=random(g.num_edges()) - .5)\n",
    "pos = sfdp_layout(g, eweight=erand.t(abs))"
   ]
  },
  {
   "cell_type": "markdown",
   "metadata": {},
   "source": [
    "### Internal property maps\n",
    "\n",
    "Any created property map can be made “internal” to the corresponding\n",
    "graph. This means that it will be copied and saved to a file together\n",
    "with the graph. Properties are internalized by including them in the\n",
    "graph’s dictionary-like attributes\n",
    "[`vertex_properties`](https://graph-tool.skewed.de/static/doc/autosummary/graph_tool.Graph.html#graph_tool.Graph.vertex_properties),\n",
    "[`edge_properties`](https://graph-tool.skewed.de/static/doc/autosummary/graph_tool.Graph.html#graph_tool.Graph.edge_properties) or\n",
    "[`graph_properties`](https://graph-tool.skewed.de/static/doc/autosummary/graph_tool.Graph.html#graph_tool.Graph.graph_properties) (or their aliases,\n",
    "[`vp`](https://graph-tool.skewed.de/static/doc/autosummary/graph_tool.Graph#graph_tool.Graph.vp), [`ep`](https://graph-tool.skewed.de/static/doc/autosummary/graph_tool.Graph.html#graph_tool.Graph.ep) or\n",
    "[`gp`](https://graph-tool.skewed.de/static/doc/autosummary/graph_tool.Graph.html#graph_tool.Graph.gp), respectively). When inserted in the graph,\n",
    "the property maps must have an unique name (between those of the same\n",
    "type):"
   ]
  },
  {
   "cell_type": "code",
   "execution_count": null,
   "metadata": {
    "hide-output": false
   },
   "outputs": [],
   "source": [
    "eprop = g.new_edge_property(\"string\")\n",
    "g.ep[\"some name\"] = eprop\n",
    "g.list_properties()"
   ]
  },
  {
   "cell_type": "markdown",
   "metadata": {},
   "source": [
    "Internal graph property maps behave slightly differently. Instead of\n",
    "returning the property map object, the value itself is returned from the\n",
    "dictionaries:"
   ]
  },
  {
   "cell_type": "code",
   "execution_count": null,
   "metadata": {
    "hide-output": false
   },
   "outputs": [],
   "source": [
    "gprop = g.new_graph_property(\"int\")\n",
    "g.gp[\"foo\"] = gprop                 # this sets the actual property map\n",
    "g.gp[\"foo\"] = 42                    # this sets its value\n",
    "print(g.gp[\"foo\"])\n",
    "del g.gp[\"foo\"]                     # the property map entry is deleted from the dictionary"
   ]
  },
  {
   "cell_type": "markdown",
   "metadata": {},
   "source": [
    "For convenience, the internal property maps can also be accessed via\n",
    "attributes:"
   ]
  },
  {
   "cell_type": "code",
   "execution_count": null,
   "metadata": {
    "hide-output": false
   },
   "outputs": [],
   "source": [
    "vprop = g.new_vertex_property(\"double\")\n",
    "g.vp.foo = vprop                    # equivalent to g.vp[\"foo\"] = vprop\n",
    "v = g.vertex(0)\n",
    "g.vp.foo[v] = 3.14\n",
    "print(g.vp.foo[v])"
   ]
  },
  {
   "cell_type": "markdown",
   "metadata": {},
   "source": [
    "## Graph I/O\n",
    "\n",
    "Graphs can be saved and loaded in four formats: [graphml](http://graphml.graphdrawing.org/), [dot](http://www.graphviz.org/doc/info/lang.html), [gml](http://www.fim.uni-passau.de/en/fim/faculty/chairs/theoretische-informatik/projects.html)\n",
    "and a custom binary format `gt` (see [The gt file format](gt_format.ipynb#sec-gt-format)).\n",
    "\n",
    "The binary format `gt` and the text-based `graphml` are the\n",
    "preferred formats, since they are by far the most complete. Both\n",
    "these formats are equally complete, but the `gt` format is faster\n",
    "and requires less storage.\n",
    "\n",
    "The `dot` and `gml` formats are fully supported, but since they\n",
    "contain no precise type information, all properties are read as\n",
    "strings (or also as double, in the case of `gml`), and must be\n",
    "converted by hand to the desired type. Therefore you should always\n",
    "use either `gt` or `graphml`, since they implement an exact\n",
    "bit-for-bit representation of all supported [Property maps](.ipynb_checkpoints/quickstart-checkpoint#sec-property-maps)\n",
    "types, except when interfacing with other software, or existing\n",
    "data, which uses `dot` or `gml`.\n",
    "\n",
    ">**Note**\n",
    ">\n",
    ">Graph classes can also be pickled with the [`pickle`](https://docs.python.org/3/library/pickle.html.html#module-pickle) module.\n",
    "\n",
    "A graph can be saved or loaded to a file with the [`save`](https://graph-tool.skewed.de/static/doc/autosummary/graph_tool.Graph.html#graph_tool.Graph.save)\n",
    "and [`load`](https://graph-tool.skewed.de/static/doc/autosummary/graph_tool.Graph.html#graph_tool.Graph.load) methods, which take either a file name or a\n",
    "file-like object. A graph can also be loaded from disc with the\n",
    "[`load_graph()`](https://graph-tool.skewed.de/static/doc/autosummary/graph_tool.load_graph.html#graph_tool.load_graph) function, as such:"
   ]
  },
  {
   "cell_type": "code",
   "execution_count": null,
   "metadata": {
    "hide-output": false
   },
   "outputs": [],
   "source": [
    "g = Graph()\n",
    "#  ... fill the graph ...\n",
    "g.save(\"my_graph.gt.gz\")\n",
    "g2 = load_graph(\"my_graph.gt.gz\")\n",
    "# g and g2 should be identical copies of each other"
   ]
  },
  {
   "cell_type": "markdown",
   "metadata": {},
   "source": [
    "\n",
    "<a id='sec-graph-filtering'></a>"
   ]
  },
  {
   "cell_type": "markdown",
   "metadata": {},
   "source": [
    "## Graph filtering\n",
    "\n",
    ">**Note**\n",
    ">\n",
    ">It is important to emphasize that the filtering functionality does not add\n",
    "any performance overhead when the graph is not being filtered. In this case,\n",
    "the algorithms run just as fast as if the filtering functionality didn’t\n",
    "exist.\n",
    "\n",
    "One of the unique features of `graph-tool` is the “on-the-fly” filtering of\n",
    "edges and/or vertices. Filtering means the temporary masking of vertices/edges,\n",
    "which are in fact not really removed, and can be easily recovered.\n",
    "\n",
    "Ther are two different ways to enable graph filtering: via graph views or\n",
    "inplace filtering, which are covered in the following."
   ]
  },
  {
   "cell_type": "markdown",
   "metadata": {},
   "source": [
    "### Graph views\n",
    "\n",
    "It is often desired to work with filtered and unfiltered graphs\n",
    "simultaneously, or to temporarily create a filtered version of graph for\n",
    "some specific task. For these purposes, `graph-tool` provides a\n",
    "[`GraphView`](https://graph-tool.skewed.de/static/doc/autosummary/graph_tool.GraphView.html#graph_tool.GraphView) class, which represents a filtered “view”\n",
    "of a graph, and behaves as an independent graph object, which shares the\n",
    "underlying data with the original graph. Graph views are constructed by\n",
    "instantiating a [`GraphView`](https://graph-tool.skewed.de/static/doc/autosummary/graph_tool.GraphView.html#graph_tool.GraphView) class, and passing a\n",
    "graph object which is supposed to be filtered, together with the desired\n",
    "filter parameters. For example, to create a directed view of an undirected graph\n",
    "`g` above, one could do:"
   ]
  },
  {
   "cell_type": "code",
   "execution_count": null,
   "metadata": {
    "hide-output": false
   },
   "outputs": [],
   "source": [
    "ug = GraphView(g, directed=True)\n",
    "ug.is_directed()\n",
    "True"
   ]
  },
  {
   "cell_type": "markdown",
   "metadata": {},
   "source": [
    "Graph views also provide a direct and convenient approach to vertex/edge\n",
    "filtering. Let us consider the facebook friendship graph we used before and the\n",
    "betweeness centrality values:"
   ]
  },
  {
   "cell_type": "code",
   "execution_count": null,
   "metadata": {
    "hide-output": false
   },
   "outputs": [],
   "source": [
    "g = collection.ns[\"ego_social/facebook_combined\"]\n",
    "vb, eb = betweenness(g)"
   ]
  },
  {
   "cell_type": "markdown",
   "metadata": {},
   "source": [
    "Let us suppose we would like to see how the graph would look like if some of the\n",
    "edges with higher betweeness values were removed. We can do this by a\n",
    "[`GraphView`](https://graph-tool.skewed.de/static/doc/autosummary/graph_tool.GraphView.html#graph_tool.GraphView) object and passing the efilt paramter:"
   ]
  },
  {
   "cell_type": "code",
   "execution_count": null,
   "metadata": {
    "hide-output": false
   },
   "outputs": [],
   "source": [
    "u = GraphView(g, vfilt=eb.fa < 1e-6)"
   ]
  },
  {
   "cell_type": "markdown",
   "metadata": {},
   "source": [
    ">**Note**\n",
    ">\n",
    ">[`GraphView`](https://graph-tool.skewed.de/static/doc/autosummary/graph_tool.GraphView.html#graph_tool.GraphView) objects behave *exactly* like regular\n",
    "[`Graph`](https://graph-tool.skewed.de/static/doc/autosummary/graph_tool.Graph.html#graph_tool.Graph) objects. In fact,\n",
    "[`GraphView`](https://graph-tool.skewed.de/static/doc/autosummary/graph_tool.GraphView.html#graph_tool.GraphView) is a subclass of\n",
    "[`Graph`](https://graph-tool.skewed.de/static/doc/autosummary/graph_tool.Graph.html#graph_tool.Graph). The only difference is that a\n",
    "[`GraphView`](https://graph-tool.skewed.de/static/doc/autosummary/graph_tool.GraphView.html#graph_tool.GraphView) object shares its internal data with\n",
    "its parent [`Graph`](https://graph-tool.skewed.de/static/doc/autosummary/graph_tool.Graph.html#graph_tool.Graph) class. Therefore, if the\n",
    "original [`Graph`](https://graph-tool.skewed.de/static/doc/autosummary/graph_tool.Graph.html#graph_tool.Graph) object is modified, this\n",
    "modification will be reflected immediately in the\n",
    "[`GraphView`](https://graph-tool.skewed.de/static/doc/autosummary/graph_tool.GraphView.html#graph_tool.GraphView) object, and vice versa.\n",
    "\n",
    "Since [`GraphView`](https://graph-tool.skewed.de/static/doc/autosummary/graph_tool.GraphView.html#graph_tool.GraphView) is a derived class from\n",
    "[`Graph`](https://graph-tool.skewed.de/static/doc/autosummary/graph_tool.Graph.html#graph_tool.Graph), and its instances are accepted as regular graphs\n",
    "by every function of the library. Graph views are “first class citizens” in\n",
    "`graph-tool`.\n",
    "\n",
    "If we visualize the graph we can see it now has been broken up in many components:"
   ]
  },
  {
   "cell_type": "code",
   "execution_count": null,
   "metadata": {
    "hide-output": false
   },
   "outputs": [],
   "source": [
    "graph_draw(u, pos=g.vp._pos);"
   ]
  },
  {
   "cell_type": "markdown",
   "metadata": {},
   "source": [
    " Note however that no copy of the original graph was done, and no edge has been\n",
    "in fact removed. If we inspect the original graph `g` in the example above, it\n",
    "will be intact.\n",
    "\n",
    "In the example above, we passed a boolean array as the `efilt`, but we could\n",
    "have passed also a boolean property map, a function that takes an edge as\n",
    "single parameter, and returns `True` if the edge should be kept and\n",
    "`False` otherwise. For instance, the above could be equivalently achieved as:"
   ]
  },
  {
   "cell_type": "code",
   "execution_count": null,
   "metadata": {
    "hide-output": false
   },
   "outputs": [],
   "source": [
    "u = GraphView(g, efilt=lambda e: eb[e] < 1e-6)"
   ]
  },
  {
   "cell_type": "markdown",
   "metadata": {},
   "source": [
    "But note however that would be slower, since it would involve one function call\n",
    "per edge in the graph.\n",
    "\n",
    "Vertices can also be filtered in an entirerly analogous fashion using the\n",
    "`vfilt` paramter."
   ]
  },
  {
   "cell_type": "markdown",
   "metadata": {},
   "source": [
    "#### Composing graph views\n",
    "\n",
    "Since graph views behave like regular graphs, one can just as easily create\n",
    "graph views of graph views. This provides a convenient way of composing\n",
    "filters. For instance, suppose we wanto to isolate the minimum spanning tree of all\n",
    "vertices of agraph above which have a degree larger than four:"
   ]
  },
  {
   "cell_type": "code",
   "execution_count": null,
   "metadata": {},
   "outputs": [],
   "source": [
    "g, pos = triangulation(random((500, 2)) * 4, type=\"delaunay\")\n",
    "u = GraphView(g, vfilt=lambda v: v.out_degree() > 4)\n",
    "tree = min_spanning_tree(u)\n",
    "u = GraphView(u, efilt=tree)"
   ]
  },
  {
   "cell_type": "markdown",
   "metadata": {},
   "source": [
    "The resulting graph view can be used and visualized as normal:"
   ]
  },
  {
   "cell_type": "code",
   "execution_count": null,
   "metadata": {},
   "outputs": [],
   "source": [
    "bv, be = betweenness(u)\n",
    "be.a /= be.a.max() / 5\n",
    "graph_draw(u, pos=pos, vertex_fill_color=bv, edge_pen_width=be, output_size=(300, 300));"
   ]
  },
  {
   "cell_type": "markdown",
   "metadata": {},
   "source": [
    "A composed view, obtained as the minimum spanning tree of all vertices in the\n",
    "graph which have a degree larger than four. The edge thickness indicates the\n",
    "betweeness values, as well as the node colors.  "
   ]
  },
  {
   "cell_type": "markdown",
   "metadata": {},
   "source": [
    "### In-place graph filtering\n",
    "\n",
    "It is possible also to filter graphs “in-place”, i.e. without creating an\n",
    "additional object. To achieve this, vertices or edges which are to be filtered\n",
    "should be marked with a [`PropertyMap`](https://graph-tool.skewed.de/static/doc/autosummary/graph_tool.PropertyMap.html#graph_tool.PropertyMap) with value type\n",
    "`bool`, and then set with [`set_vertex_filter()`](https://graph-tool.skewed.de/static/doc/autosummary/graph_tool.Graph.html#graph_tool.Graph.set_vertex_filter) or\n",
    "[`set_edge_filter()`](https://graph-tool.skewed.de/static/doc/autosummary/graph_tool.Graph.html#graph_tool.Graph.set_edge_filter) methods. By default, vertex or edges\n",
    "with value “1” are kept in the graphs, and those with value “0” are filtered\n",
    "out. This behaviour can be modified with the `inverted` parameter of the\n",
    "respective functions. All manipulation functions and algorithms will work as if\n",
    "the marked edges or vertices were removed from the graph, with minimum overhead.\n",
    "\n",
    "For example, to reproduce the same example as before for the facebook graph we\n",
    "could have done:"
   ]
  },
  {
   "cell_type": "code",
   "execution_count": null,
   "metadata": {
    "hide-output": false
   },
   "outputs": [],
   "source": [
    "g = collection.ns[\"ego_social/facebook_combined\"]\n",
    "vb, eb = betweenness(g)\n",
    "mask = g.new_ep(\"bool\", vals = eb.fa < 1e-5)\n",
    "g.set_edge_filter(mask)"
   ]
  },
  {
   "cell_type": "markdown",
   "metadata": {},
   "source": [
    "The `mask` property map has a bool type, with value `1` if the edge belongs to\n",
    "the tree, and `0` otherwise.\n",
    "\n",
    "Everything should work transparently on the filtered graph, simply as if the\n",
    "masked edges were removed.\n",
    "\n",
    "The original graph can be recovered by setting the edge filter to `None`."
   ]
  },
  {
   "cell_type": "code",
   "execution_count": null,
   "metadata": {
    "hide-output": false
   },
   "outputs": [],
   "source": [
    "g.set_edge_filter(None)"
   ]
  },
  {
   "cell_type": "markdown",
   "metadata": {},
   "source": [
    "Everything works in analogous fashion with vertex filtering.\n",
    "\n",
    "Additionally, the graph can also have its edges reversed with the\n",
    "[`set_reversed()`](https://graph-tool.skewed.de/static/doc/autosummary/graph_tool.Graph.html#graph_tool.Graph.set_reversed) method. This is also an $ O(1) $\n",
    "operation, which does not really modify the graph.\n",
    "\n",
    "As mentioned previously, the directedness of the graph can also be changed\n",
    "“on-the-fly” with the [`set_directed()`](https://graph-tool.skewed.de/static/doc/autosummary/graph_tool.Graph.html#graph_tool.Graph.set_directed) method."
   ]
  },
  {
   "cell_type": "markdown",
   "metadata": {},
   "source": [
    "# Graph drawing"
   ]
  },
  {
   "cell_type": "code",
   "execution_count": null,
   "metadata": {},
   "outputs": [],
   "source": [
    "# shortest paths\n",
    "\n",
    "g = lattice([25, 25])\n",
    "\n",
    "# we will place the node positions by hand\n",
    "pos = g.new_vp(\"vector<double>\")\n",
    "for i in range(25):\n",
    "    for j in range(25):\n",
    "        pos[i + j * 25] = (i, j)\n",
    "\n",
    "vertices, edges = shortest_path(g, g.vertex(0), g.vertex(g.num_vertices() - 1))\n",
    "\n",
    "ecolor = g.new_ep(\"string\", val=\"black\")\n",
    "vcolor = g.new_vp(\"string\", val=\"black\")\n",
    "\n",
    "for v in vertices:\n",
    "    vcolor[v] = \"red\"\n",
    "for e in edges:\n",
    "    ecolor[e] = \"red\"\n",
    "\n",
    "graph_draw(g, pos=pos, vertex_fill_color=vcolor, edge_color=ecolor, output_size=(300, 300));\n"
   ]
  },
  {
   "cell_type": "code",
   "execution_count": null,
   "metadata": {},
   "outputs": [],
   "source": [
    "# now we use random weights\n",
    "\n",
    "import numpy.random\n",
    "\n",
    "eweights = g.new_ep(\"double\")\n",
    "eweights.a = numpy.random.random(len(eweights.a))\n",
    "print(eweights.a)\n",
    "\n",
    "vertices, edges = shortest_path(g, g.vertex(0), g.vertex(g.num_vertices() - 1), weights=eweights)\n",
    "\n",
    "ecolor = g.new_ep(\"string\", val=\"black\")\n",
    "vcolor = g.new_vp(\"string\", val=\"black\")\n",
    "\n",
    "for v in vertices:\n",
    "    vcolor[v] = \"red\"\n",
    "for e in edges:\n",
    "    ecolor[e] = \"red\"\n",
    "\n",
    "ewidth = eweights.copy()\n",
    "ewidth.a = (1-ewidth.a) * 2\n",
    "    \n",
    "graph_draw(g, pos=pos, vertex_fill_color=vcolor, edge_color=ecolor, edge_pen_width=ewidth, output_size=(300,300));"
   ]
  },
  {
   "cell_type": "markdown",
   "metadata": {},
   "source": [
    "## Graph-layout\n",
    "\n",
    "If called without a `pos` argument, `graph_draw` will use the function `sfdp_layout` to compute the node positions. But there are some alternatives available."
   ]
  },
  {
   "cell_type": "code",
   "execution_count": null,
   "metadata": {},
   "outputs": [],
   "source": [
    "g = collection.data[\"celegansneural\"]\n",
    "\n",
    "pos = sfdp_layout(g)\n",
    "graph_draw(g, pos=pos)  # same as ommiting the `pos` argument\n",
    "\n",
    "pos = arf_layout(g)\n",
    "graph_draw(g, pos=pos)\n",
    "\n",
    "pos = fruchterman_reingold_layout(g, circular=True, grid=False)\n",
    "graph_draw(g, pos=pos)\n",
    "\n",
    "pos = radial_tree_layout(g, root=list(sorted(g.vertices(), key=lambda v: v.in_degree()))[-1])\n",
    "graph_draw(g, pos=pos)"
   ]
  },
  {
   "cell_type": "markdown",
   "metadata": {},
   "source": [
    "## How do we control the drawing style?\n",
    "\n",
    "Take a look at the docstring for `graph_draw()`:"
   ]
  },
  {
   "cell_type": "code",
   "execution_count": null,
   "metadata": {},
   "outputs": [],
   "source": [
    "from IPython.core.display import HTML\n",
    "display(HTML(\"<style>pre { white-space: pre !important; }</style>\"))\n",
    "\n",
    "help(graph_draw)"
   ]
  },
  {
   "cell_type": "markdown",
   "metadata": {
    "jp-MarkdownHeadingCollapsed": true
   },
   "source": [
    "### Exercise\n",
    "\n",
    "Consider the Les Misérables character co-occurence network, assessible via `collection.data[\"lesmis\"]'`.\n",
    "\n",
    "This network has some internal property maps, including `\"pos\"` for the vertex positions, and `\"label\"` for\n",
    "the character names. There is also a `\"value\"` edge property map with the number of co-occurences.\n",
    "\n",
    "Take a look at the `graph_draw()` documentation, and draw the network as follows:\n",
    "\n",
    "1. The vertex positions should be given by the internal `pos` property.\n",
    "2. The color and size of the vertex should match the degree of the vertex.\n",
    "3. The edge thickness should match the number of co-occurences.\n",
    "4. The vertex shape should be a square for nodes with even degree, and a triangle for nodes with odd degree.\n",
    "\n",
    "TIP: Take a look at the `prop_to_size()` function, which takes a property map and returns a scaled version.\n",
    "It can be useful to transform arbitrary values as sizes, thickness, etc for visualization (as the name implies).\n"
   ]
  },
  {
   "cell_type": "code",
   "execution_count": null,
   "metadata": {},
   "outputs": [],
   "source": [
    "import matplotlib.cm\n",
    "from matplotlib import pyplot as plt\n",
    "\n",
    "g = collection.data[\"lesmis\"]\n",
    "\n",
    "deg = g.degree_property_map(\"out\")\n",
    "\n",
    "shape = deg.copy()\n",
    "is_even = shape.a % 2 == 0\n",
    "is_odd = shape.a % 2 == 1\n",
    "shape.a[is_even] = 2\n",
    "shape.a[is_odd] = 1\n",
    "\n",
    "graph_draw(g, pos=g.vp.pos,\n",
    "           vertex_color=deg.copy(\"double\"),\n",
    "           vertex_fill_color=deg.copy(\"double\"),\n",
    "           vcmap=matplotlib.cm.plasma,\n",
    "           vertex_size=prop_to_size(deg, 10, 40),\n",
    "           vertex_shape=shape,\n",
    "           vertex_text=g.vp.label,\n",
    "           vertex_text_position=0,\n",
    "           vertex_text_out_color=\"white\",\n",
    "           edge_pen_width=prop_to_size(g.ep.value, 1, 10))"
   ]
  },
  {
   "cell_type": "markdown",
   "metadata": {},
   "source": [
    "## Visualization outputs\n",
    "\n",
    "The visualization can be output to a file by specifying the `output` paramter:"
   ]
  },
  {
   "cell_type": "code",
   "execution_count": null,
   "metadata": {},
   "outputs": [],
   "source": [
    "import matplotlib.cm\n",
    "\n",
    "# let us simulate an opnion dynamic on a network\n",
    "g = GraphView(collection.data[\"polblogs\"], directed=False)\n",
    "remove_parallel_edges(g)\n",
    "g = extract_largest_component(g, prune=True)\n",
    "state = AxelrodState(g, f=10, q=30, r=0.005)\n",
    "ret = state.iterate_async(niter=10000000)\n",
    "\n",
    "graph_draw(g, g.vp.pos,\n",
    "           vertex_fill_color=perfect_prop_hash([state.s])[0],\n",
    "           vcmap=matplotlib.cm.magma)"
   ]
  },
  {
   "cell_type": "markdown",
   "metadata": {},
   "source": [
    "## Hierarchical modular layout\n",
    "\n",
    "Graph-tool can draw networks based on their hierarchical modular layout by fitting a nested stochastic block model, a\n",
    "and employing hierarchical edge bundling. For a theoretical background and howto, take a look at: https://graph-tool.skewed.de/static/doc/demos/inference/inference.html\n",
    "\n"
   ]
  },
  {
   "cell_type": "code",
   "execution_count": null,
   "metadata": {},
   "outputs": [],
   "source": [
    "g = collection.data[\"polblogs\"]\n",
    "g = extract_largest_component(g, prune=True, directed=False)\n",
    "\n",
    "state = minimize_nested_blockmodel_dl(g)\n",
    "\n",
    "state.draw(); # this is a wrapper around graph_draw()"
   ]
  },
  {
   "cell_type": "code",
   "execution_count": null,
   "metadata": {
    "scrolled": true
   },
   "outputs": [],
   "source": [
    "# Let's visualize the edge direction. We do this via 'edge_gradient'\n",
    "state.draw(edge_gradient=[.0, .3, .3, .3, .6,\n",
    "                          .9, .3, .3, .3, .6,\n",
    "                          1., .0, .6, .0, .6]); # The target end points of edges will be green"
   ]
  },
  {
   "cell_type": "markdown",
   "metadata": {},
   "source": [
    "# Integration with matplotlib\n",
    "\n",
    "Drawing with matplotlib is done by calling `graph_draw()` and passing a container (e.g. matplotlib.axes.Axes) as the `mplfig` parameter"
   ]
  },
  {
   "cell_type": "code",
   "execution_count": null,
   "metadata": {
    "scrolled": true
   },
   "outputs": [],
   "source": [
    "import matplotlib.pyplot as plt\n",
    "\n",
    "fig, ax = plt.subplots(2, 2, figsize=(6, 6), dpi=600)\n",
    "\n",
    "g = collection.data[\"polbooks\"]\n",
    "\n",
    "a = graph_draw(g, g.vp.pos, vertex_size=1.5, mplfig=ax[0,0])\n",
    "a.fit_view(yflip=True)\n",
    "\n",
    "ax[0,0].set_xlabel(\"$x$ coordinate\")\n",
    "ax[0,0].set_ylabel(\"$y$ coordinate\")\n",
    "\n",
    "state = minimize_nested_blockmodel_dl(g)\n",
    "\n",
    "a = state.draw(mplfig=ax[0,1])[0]\n",
    "a.fit_view(yflip=True)\n",
    "\n",
    "ax[0,1].set_xlabel(\"$x$ coordinate\")\n",
    "ax[0,1].set_ylabel(\"$y$ coordinate\")\n",
    "\n",
    "g = collection.data[\"lesmis\"]\n",
    "a = graph_draw(g, g.vp.pos, vertex_size=1.5, mplfig=ax[1,0])\n",
    "a.fit_view(yflip=True)\n",
    "\n",
    "ax[1,0].set_xlabel(\"$x$ coordinate\")\n",
    "ax[1,0].set_ylabel(\"$y$ coordinate\")\n",
    "\n",
    "state = minimize_nested_blockmodel_dl(g)\n",
    "\n",
    "a = state.draw(mplfig=ax[1,1])[0]\n",
    "a.fit_view(yflip=True)\n",
    "\n",
    "ax[1,1].set_xlabel(\"$x$ coordinate\")\n",
    "ax[1,1].set_ylabel(\"$y$ coordinate\")\n",
    "\n",
    "plt.subplots_adjust(left=0.08, right=0.99, top=0.99, bottom=0.06)"
   ]
  },
  {
   "cell_type": "markdown",
   "metadata": {},
   "source": [
    "# Parallelization and the global interpreter lock (GIL)\n",
    "\n",
    "`graph-tool` releases Python’s GIL as soon as the C++ implementations are reached, even for algorithms that are not implemented in parallel with OpenMP. This means that Python’s threading functionally can be used with many functions to achieve parallelism. For example, the following code will run several calls of `subgraph_isomorphism()` in parallel using 16 threads, which each individual call running sequentially:"
   ]
  },
  {
   "cell_type": "code",
   "execution_count": null,
   "metadata": {},
   "outputs": [],
   "source": [
    "from concurrent.futures import ThreadPoolExecutor\n",
    "\n",
    "g = collection.data[\"netscience\"]\n",
    "\n",
    "def find_sub():\n",
    "    u = random_graph(11, lambda: 4, directed=False, model=\"erdos\")\n",
    "    subgraph_isomorphism(u, g, max_n=1000)\n",
    "\n",
    "with ThreadPoolExecutor(max_workers=16) as executor:\n",
    "    futures = [executor.submit(find_sub) for i in range(16)]            # Will _actually_ run in parallel!\n",
    "    for future in futures:\n",
    "        future.result()"
   ]
  },
  {
   "cell_type": "markdown",
   "metadata": {},
   "source": [
    "# Dynamical models (e.g. epidemic spreading)"
   ]
  },
  {
   "cell_type": "code",
   "execution_count": null,
   "metadata": {},
   "outputs": [],
   "source": [
    "g = collection.data[\"pgp-strong-2009\"]\n",
    "\n",
    "state = SIRState(g, beta=0.01, gamma=0.0025)\n",
    "S, X, R = [], [], []\n",
    "for t in range(2000):\n",
    "    ret = state.iterate_sync()\n",
    "    s = state.get_state().fa\n",
    "    S.append((s == 0).sum())\n",
    "    X.append((s == 1).sum())\n",
    "    R.append((s == 2).sum())\n",
    "\n",
    "fig, ax = plt.subplots(1, 1, figsize=(6, 4))\n",
    "ax.plot(S, label=\"Susceptible\")\n",
    "ax.plot(X, label=\"Infectious\")\n",
    "ax.plot(R, label=\"Recovered\")\n",
    "ax.set_xlabel(r\"Time\")\n",
    "ax.set_ylabel(r\"Number of nodes\")\n",
    "ax.legend(loc=\"best\")\n",
    "fig.tight_layout()"
   ]
  },
  {
   "cell_type": "markdown",
   "metadata": {},
   "source": [
    "# Network reconstruction\n",
    "\n",
    "As an example of how to perform [network reconstructions](https://graph-tool.skewed.de/static/doc/demos/reconstruction_indirect/reconstruction.html) with empirical data, we will consider the log-returns of the stock prices of the S&P 500 companies containing the 500 largest US companies.\n",
    "\n",
    "We will begin by fetching the data and computing the log-returns:"
   ]
  },
  {
   "cell_type": "code",
   "execution_count": null,
   "metadata": {},
   "outputs": [],
   "source": [
    "import requests\n",
    "from collections import defaultdict\n",
    "import csv\n",
    "from numpy import *\n",
    "\n",
    "r = requests.get('https://raw.githubusercontent.com/plotly/datasets/master/all_stocks_5yr.csv')\n",
    "lines = r.iter_lines(decode_unicode=True)\n",
    "next(lines)                                     # remove header\n",
    "prices = defaultdict(list)\n",
    "for vals in csv.reader(lines, delimiter=','):\n",
    "    prices[vals[-1]].append(float(vals[4]))     # use closing price\n",
    "stocks, s = zip(*[(stock, vals) for stock, vals in prices.items() if len(vals) == 1259])\n",
    "\n",
    "# compute log-returns\n",
    "s = [[log(p[i+1]) - log(p[i]) for i in range(len(p)-1)] for p in s]\n",
    "\n",
    "s = array(s)"
   ]
  },
  {
   "cell_type": "markdown",
   "metadata": {},
   "source": [
    "We will use a multivariate normal model via [PseudoNormalBlockState](https://graph-tool.skewed.de/static/doc/autosummary/graph_tool.inference.PseudoNormalBlockState.html#graph_tool.inference.PseudoNormalBlockState):"
   ]
  },
  {
   "cell_type": "code",
   "execution_count": null,
   "metadata": {
    "scrolled": true
   },
   "outputs": [],
   "source": [
    "state = PseudoNormalBlockState(s)\n",
    "\n",
    "with openmp_context(nthreads=24):\n",
    "    ret = state.edge_mcmc_sweep(niter=10)\n",
    "    delta = abs(ret[0])\n",
    "    while delta > 20:\n",
    "        ret = state.mcmc_sweep(niter=10)\n",
    "        delta = abs(ret[0])\n",
    "        print(delta)"
   ]
  },
  {
   "cell_type": "markdown",
   "metadata": {},
   "source": [
    "We can now visualize the reconstructed network:"
   ]
  },
  {
   "cell_type": "code",
   "execution_count": null,
   "metadata": {},
   "outputs": [],
   "source": [
    "bstate = state.get_block_state().levels[0]\n",
    "pos = sfdp_layout(state.get_graph(), groups=bstate.get_blocks(), gamma=.02)\n",
    "bstate.draw(pos=pos, vertex_color=\"white\", edge_gradient=[],\n",
    "            edge_pen_width=prop_to_size(state.get_x().t(abs), .1, 3, power=1))"
   ]
  },
  {
   "cell_type": "markdown",
   "metadata": {},
   "source": [
    "### Exercise\n",
    "\n",
    "Consider the dataset:\n",
    "\n",
    "``g = load_graph(\"dataset1.gt\")``\n",
    "\n",
    "Draw this network as follows:\n",
    "\n",
    "* Using sfdp_layout()\n",
    "   1. The vertex size should match the degree.   \n",
    "   2. The vertex color should match the community structure. This you obtain with `state.project_level(l).get_blocks()`,\n",
    "      where `l` is a level of the hierarchy and `state` is the output of `minimize_nested_blockmodel_dl()`.\n",
    "   3. The edge weight and/or color should correspond to the edge weight.\n",
    "   4. The edges and nodes with higher weight and degree should be drawn on top!\n",
    "* Using hierarchical modular layout, with the same style as in 1, except the edge colors should indicate direction."
   ]
  },
  {
   "cell_type": "code",
   "execution_count": null,
   "metadata": {},
   "outputs": [],
   "source": []
  },
  {
   "cell_type": "code",
   "execution_count": null,
   "metadata": {},
   "outputs": [],
   "source": []
  },
  {
   "cell_type": "markdown",
   "metadata": {},
   "source": [
    "# Exercises"
   ]
  },
  {
   "cell_type": "markdown",
   "metadata": {},
   "source": [
    "## Exercise 1\n",
    "\n",
    "Consider a spatial network in a 2D plane generated as follows:"
   ]
  },
  {
   "cell_type": "code",
   "execution_count": null,
   "metadata": {
    "jupyter": {
     "source_hidden": true
    }
   },
   "outputs": [],
   "source": [
    "g, pos = triangulation(random((1000,2)), type=\"delaunay\")\n",
    "\n",
    "# Let's compute the vertex and edge betweeness:\n",
    "\n",
    "vb, eb = betweenness(g)"
   ]
  },
  {
   "cell_type": "markdown",
   "metadata": {},
   "source": [
    "Create a filtered version ``u`` of this network, where all **nodes** with a betwenness value higher than a specific threshold ``t`` are removed from the network. For the filtered network, compute the largest component using:\n",
    "\n",
    "```\n",
    "label = label_largest_component(u)\n",
    "```\n",
    "\n",
    "Visualize the network after and before the removal, highlighting the nodes that belong to the largest component. Find the value of ``t`` for which an epidemic would not be able to reach the whole network, if the removed nodes would be considered \"vaccinated\"."
   ]
  },
  {
   "cell_type": "code",
   "execution_count": null,
   "metadata": {},
   "outputs": [],
   "source": []
  },
  {
   "cell_type": "markdown",
   "metadata": {},
   "source": [
    "## Exercise 2\n",
    "\n",
    "Create a 100 x 100 2D lattice graph, and write a code tha simulates a \"random walk\" on the graph, starting from a node\n",
    "somehwere in the middle. A random walk is when we select a new node to occupy chosen uniformly at random from the\n",
    "neighbors of the currently occupied node. Whenever a new node is visited, we record the time (i.e. current number\n",
    "number of steps so far) when it was visited for the first time.\n",
    "\n",
    "After running the random walk for some time, draw the network highlighting the edges used during the walk and\n",
    "the visit times as colors."
   ]
  },
  {
   "cell_type": "code",
   "execution_count": null,
   "metadata": {},
   "outputs": [],
   "source": [
    "g = lattice([100, 100])\n",
    "pos = g.new_vp(\"vector<double>\")\n",
    "for i in range(100):\n",
    "    for j in range(100):\n",
    "        pos[i * 100 + j] = (i, j)\n"
   ]
  },
  {
   "cell_type": "code",
   "execution_count": null,
   "metadata": {},
   "outputs": [],
   "source": []
  },
  {
   "cell_type": "markdown",
   "metadata": {},
   "source": [
    "## Exercise 3\n",
    "\n",
    "Load the following network:\n",
    "\n",
    "```python\n",
    "g = gt.collection.ns[\"foodweb_baywet\"]\n",
    "```\n",
    "\n",
    "It is a food web, and it contains an edge property map called ``weight``.\n",
    "\n",
    "Use it to find an hierarchical clustering as follows:\n",
    "```python\n",
    "state = gt.minimize_nested_blockmodel_dl(g, state_args=dict(recs=[g.ep.weight],\n",
    "                                                            rec_types=[\"real-exponential\"]))\n",
    "```\n",
    "Based on this, do a hierarchical visualization, showing the edge weights as colors. Use the colormap ```matplotlib.cm.inferno``` for the edge colors. Don't forget to order the edges!\n"
   ]
  },
  {
   "cell_type": "code",
   "execution_count": null,
   "metadata": {},
   "outputs": [],
   "source": []
  },
  {
   "cell_type": "markdown",
   "metadata": {},
   "source": [
    "## Exercise 4\n",
    "\n",
    "Consider the network given by\n",
    "```python\n",
    "g = collection.data[\"lesmis\"]\n",
    "```\n",
    "\n",
    "Find the community structure of this network using ``minimize_nested_blockmodel_dl()``. Use this result to visualize the same network in two matplotlib subplots. The one on the left uses the position on the nodes given by ``g.vp.pos``, and the vertex color and shapes determined by the community membership of each node. On the plot on the right you should visualize the same network, but using instead the hierarchical layout obtained by ``state.draw()``.\n"
   ]
  },
  {
   "cell_type": "code",
   "execution_count": null,
   "metadata": {},
   "outputs": [],
   "source": []
  },
  {
   "cell_type": "markdown",
   "metadata": {},
   "source": [
    "## Exercise 5\n",
    "\n",
    "Consider the network in the first example:\n",
    "\n",
    "```python\n",
    "g = gt.collection.ns[\"foodweb_baywet\"]\n",
    "```\n",
    "\n",
    "Use the positions given by ``g.vp.pos`` to draw this network in a matplotlib figure, using the edge property map ``g.ep.weight`` as colors on the edges. Add a **colorbar** to your figure as a legend to the edge weights."
   ]
  },
  {
   "cell_type": "code",
   "execution_count": null,
   "metadata": {},
   "outputs": [],
   "source": [
    "#hint: you can create a color bar from an arbitrary range [10, 999] as follows:\n",
    "norm = matplotlib.colors.Normalize(vmin=10, vmax=999)\n",
    "cbar = plt.colorbar(matplotlib.cm.ScalarMappable(norm=norm, cmap='Blues'))\n"
   ]
  },
  {
   "cell_type": "code",
   "execution_count": null,
   "metadata": {},
   "outputs": [],
   "source": []
  },
  {
   "cell_type": "markdown",
   "metadata": {},
   "source": [
    "## Exercise 6\n",
    "\n",
    "Load the following network:\n",
    "\n",
    "```python\n",
    "g = gt.collection.ns[\"foodweb_baywet\"]\n",
    "```\n",
    "\n",
    "It is a food web, and it contains an edge property map called ``weight``.\n",
    "\n",
    "Use it to find an hierarchical clustering as follows:\n",
    "```python\n",
    "state = gt.minimize_nested_blockmodel_dl(g, state_args=dict(recs=[g.ep.weight],\n",
    "                                                            rec_types=[\"real-exponential\"]))\n",
    "```\n",
    "Based on this, do a hierarchical visualization, showing the edge weights as colors. Use the colormap ```matplotlib.cm.inferno``` for the edge colors. Don't forget to order the edges!\n"
   ]
  },
  {
   "cell_type": "code",
   "execution_count": null,
   "metadata": {},
   "outputs": [],
   "source": []
  },
  {
   "cell_type": "markdown",
   "metadata": {},
   "source": [
    "## Exercise 7\n",
    "\n",
    "Take a look at the documentation here: https://graph-tool.skewed.de/static/doc/demos/inference/inference.html#edge-weights-and-covariates\n",
    "\n",
    "1. Consider the different values that `rec_types` can have, and perform different visualizations accordingly.\n",
    "2. Can you interpret the differences? For more information about what this network data, look at: https://networks.skewed.de/net/foodweb_baywet"
   ]
  },
  {
   "cell_type": "code",
   "execution_count": null,
   "metadata": {},
   "outputs": [],
   "source": []
  },
  {
   "cell_type": "markdown",
   "metadata": {},
   "source": [
    "## Exercise 8\n",
    "Consider the network of migrations between countries: https://networks.skewed.de/net/un_migrations\n",
    "1. Perform the same hierarchical visualization as above, using the number of migrants in 2015 (given by the \"migration_2015_total\" edge property map) as edge weight.\n",
    "2. Can you interpret the results?\n",
    "3. Can you see differences for the years 2010, 2005, 2000, 1995, and 1990?\n",
    "4. Can you see differences between men and women?\n",
    "5. How would you visualize these differences effectively?"
   ]
  }
 ],
 "metadata": {
  "kernelspec": {
   "display_name": "Python 3 (ipykernel)",
   "language": "python",
   "name": "python3"
  },
  "language_info": {
   "codemirror_mode": {
    "name": "ipython",
    "version": 3
   },
   "file_extension": ".py",
   "mimetype": "text/x-python",
   "name": "python",
   "nbconvert_exporter": "python",
   "pygments_lexer": "ipython3",
   "version": "3.11.9"
  }
 },
 "nbformat": 4,
 "nbformat_minor": 4
}
